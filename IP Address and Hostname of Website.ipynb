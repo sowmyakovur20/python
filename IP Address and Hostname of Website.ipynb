{
 "cells": [
  {
   "cell_type": "code",
   "execution_count": 8,
   "id": "d056f578",
   "metadata": {},
   "outputs": [
    {
     "name": "stdout",
     "output_type": "stream",
     "text": [
      "Please enter website address(URL):www.doordash.com\n",
      "Hostname: www.doordash.com\n",
      "IP: 104.18.23.233\n"
     ]
    }
   ],
   "source": [
    "import socket\n",
    "def hostname_IP():\n",
    "    hostname = input(\"Please enter website address in the form of URL:\")\n",
    "    try:\n",
    "        print (f'Hostname: {hostname}')\n",
    "        print (f'IP: {socket.gethostbyname(hostname)}')\n",
    "    except socket.gaierror as error:\n",
    "        print (f'Invalid Hostname, error raised is {error}')\n",
    "\n",
    "hostname_IP()"
   ]
  }
 ],
 "metadata": {
  "kernelspec": {
   "display_name": "Python 3",
   "language": "python",
   "name": "python3"
  },
  "language_info": {
   "codemirror_mode": {
    "name": "ipython",
    "version": 3
   },
   "file_extension": ".py",
   "mimetype": "text/x-python",
   "name": "python",
   "nbconvert_exporter": "python",
   "pygments_lexer": "ipython3",
   "version": "3.8.8"
  }
 },
 "nbformat": 4,
 "nbformat_minor": 5
}
